{
 "cells": [
  {
   "cell_type": "markdown",
   "metadata": {
    "id": "yFUCiMpjGFKG"
   },
   "source": [
    "# Optimizing Zmap for \"on-the-fly\" text classification\n",
    "This notebook is the first of two to accompany our [Few-Shot Text Classification](https://few-shot-text-classification.fastforwardlabs.com/) report in which we dive into the ins and outs of latent text embeddings for text classifications in several limited-labeled-data regimes. One such regime is what we call \"on-the-fly\" text classification in which no labeled data exists. To classify text with no labeled training data we rely on the inherent meaning of the labels themselves and embed both the label name and the text document with Sentence-BERT. Classification proceeds by assiging the label name whose embedding maximizes the cosine similarity to the text document embedding. \n",
    "\n",
    " To enhance the classification accuracy of this method, this notebook focuses on how to optimize a mapping (Zmap) between Sentence-BERT (SBERT) embedding space and word2vec (w2v) embedding space since SBERT is optimized to generate representations for *sentences*, while w2v is optimized for *words*. \n",
    "\n",
    "  In the following experiments we use two datasets: AG News and the Reddit dataset, both of which can be found on the [HuggingFace Dataset Repository](link) (CAUTION: the Reddit dataset is *very* large and takes a looooong time to download. In our experiments we have already downsampled the dataset to fit in memory. Details on how we did that can be found in [this](link) notebook.)\n",
    "  \n",
    "  \n",
    "**While this notebook _can_ be run from start to finish we do NOT recommend you do so unless you have GPUs. Instead, this notebook serves as additional documentation that a user can read through to develop a better understanding of the analysis.**\n",
    "\n",
    "\n",
    "### Notes\n",
    "* This notebook requires the use of the original word2vec embeddings (which take a while to download for the first time)\n",
    "* Because this notebook makes use of a Transformer model, **GPUs are strongly prefered**. \n",
    "* You can access free GPUs by running this notebook with Google Colaboratory, a Jupyter Notebook environment that runs in the browser using Google Cloud. [Open this notebook as a Colab.](https://colab.research.google.com/github/fastforwardlabs/few-shot-text-classification/blob/master/notebooks/Zmap_Experiments.ipynb) \n"
   ]
  },
  {
   "cell_type": "markdown",
   "metadata": {
    "id": "_z79khz952_f"
   },
   "source": [
    "## Installation in a Colab environment\n",
    "If you followed the installation instructions in the README and are running this notebook locally or in your CML/CDSW environment, you can skip this section. \n",
    "\n",
    "However, if you'd like to take advantage of the free GPUs provided by a Colab environment follow the steps below. \n",
    "\n",
    "1. Open this notebook with Google's Colaboratory. \n",
    "2. In the top menu select Runtime --> Change runtime type\n",
    "3. A pop-up menu will appear.  Under Hardware accelerator, select GPU\n",
    "\n",
    "Now follow the installation and data download steps below. "
   ]
  },
  {
   "cell_type": "code",
   "execution_count": null,
   "metadata": {
    "colab": {
     "base_uri": "https://localhost:8080/"
    },
    "executionInfo": {
     "elapsed": 11143,
     "status": "ok",
     "timestamp": 1612811895868,
     "user": {
      "displayName": "Melanie Beck",
      "photoUrl": "https://lh3.googleusercontent.com/a-/AOh14GjLbnYa4ftLBgztDifL0LIFKY8SwjZMZ7xgytOx=s64",
      "userId": "09930974187097582546"
     },
     "user_tz": 360
    },
    "id": "8CBcpOLuEpnd",
    "outputId": "a2a64141-e135-4c17-aea2-c6dcc35ec672"
   },
   "outputs": [],
   "source": [
    "# clone the few-shot repo \n",
    "!git clone https://github.com/fastforwardlabs/few-shot-text-classification.git"
   ]
  },
  {
   "cell_type": "code",
   "execution_count": null,
   "metadata": {},
   "outputs": [],
   "source": [
    "!mv few-shot-text-classification/fewshot . \n",
    "!mv few-shot-text-classification/setup.py .\n",
    "!mv few-shot-text-classification/data ."
   ]
  },
  {
   "cell_type": "code",
   "execution_count": null,
   "metadata": {
    "colab": {
     "base_uri": "https://localhost:8080/"
    },
    "executionInfo": {
     "elapsed": 8919,
     "status": "ok",
     "timestamp": 1612811936860,
     "user": {
      "displayName": "Melanie Beck",
      "photoUrl": "https://lh3.googleusercontent.com/a-/AOh14GjLbnYa4ftLBgztDifL0LIFKY8SwjZMZ7xgytOx=s64",
      "userId": "09930974187097582546"
     },
     "user_tz": 360
    },
    "id": "bRsL9105EtRR",
    "outputId": "a9a4d959-761b-4709-8246-a80b4c4ccf8a",
    "scrolled": true
   },
   "outputs": [],
   "source": [
    "!pip3 install datasets==1.1.2\n",
    "!pip3 install transformers==3.3.0\n",
    "!pip3 install -e ."
   ]
  },
  {
   "cell_type": "markdown",
   "metadata": {
    "id": "TbJCNpK152_h"
   },
   "source": [
    "# Getting Started"
   ]
  },
  {
   "cell_type": "code",
   "execution_count": null,
   "metadata": {
    "executionInfo": {
     "elapsed": 3343,
     "status": "ok",
     "timestamp": 1612811946743,
     "user": {
      "displayName": "Melanie Beck",
      "photoUrl": "https://lh3.googleusercontent.com/a-/AOh14GjLbnYa4ftLBgztDifL0LIFKY8SwjZMZ7xgytOx=s64",
      "userId": "09930974187097582546"
     },
     "user_tz": 360
    },
    "id": "psXc9sSd52_h"
   },
   "outputs": [],
   "source": [
    "import os\n",
    "import pandas as pd\n",
    "import numpy as np\n",
    "import matplotlib.pyplot as plt\n",
    "\n",
    "from fewshot.data.loaders import load_or_cache_data\n",
    "\n",
    "from fewshot.embeddings.word_embeddings import (\n",
    "    load_word_vector_model,\n",
    "    get_topk_w2v_vectors,\n",
    "    get_word_embeddings\n",
    ")\n",
    "from fewshot.embeddings.sentence_embeddings import (\n",
    "    load_transformer_model_and_tokenizer,\n",
    "    get_sentence_embeddings,\n",
    ")\n",
    "\n",
    "from fewshot.models.on_the_fly import OLS_with_l2_regularization\n",
    "\n",
    "from fewshot.eval import predict_and_score, simple_topk_accuracy\n",
    "\n",
    "from fewshot.utils import (\n",
    "    fewshot_filename,\n",
    "    torch_load,\n",
    "    torch_save,\n",
    "    pickle_load,\n",
    "    pickle_save,\n",
    "    to_tensor,\n",
    "    to_list,\n",
    ")\n"
   ]
  },
  {
   "cell_type": "code",
   "execution_count": null,
   "metadata": {
    "id": "ck48_SuTFAeS"
   },
   "outputs": [],
   "source": [
    "import nltk\n",
    "nltk.download('stopwords')\n",
    "nltk.download('punkt')"
   ]
  },
  {
   "cell_type": "markdown",
   "metadata": {
    "id": "XSNsCRt0WBAj"
   },
   "source": [
    "## Load some data\n",
    "The datasets below are included in this repo to help get you started more quickly. "
   ]
  },
  {
   "cell_type": "code",
   "execution_count": null,
   "metadata": {
    "colab": {
     "base_uri": "https://localhost:8080/"
    },
    "executionInfo": {
     "elapsed": 72618,
     "status": "ok",
     "timestamp": 1612812024642,
     "user": {
      "displayName": "Melanie Beck",
      "photoUrl": "https://lh3.googleusercontent.com/a-/AOh14GjLbnYa4ftLBgztDifL0LIFKY8SwjZMZ7xgytOx=s64",
      "userId": "09930974187097582546"
     },
     "user_tz": 360
    },
    "id": "kSM7Lo2jGA55",
    "outputId": "1072374f-a2bc-41e6-c322-5daaf294d46b"
   },
   "outputs": [],
   "source": [
    "# ag news dataset contains `distilbert/sentence_bert` embeddings\n",
    "news_data = load_or_cache_data(\"data/agnews\", \"agnews\")"
   ]
  },
  {
   "cell_type": "code",
   "execution_count": null,
   "metadata": {
    "colab": {
     "base_uri": "https://localhost:8080/"
    },
    "executionInfo": {
     "elapsed": 570,
     "status": "ok",
     "timestamp": 1612812091895,
     "user": {
      "displayName": "Melanie Beck",
      "photoUrl": "https://lh3.googleusercontent.com/a-/AOh14GjLbnYa4ftLBgztDifL0LIFKY8SwjZMZ7xgytOx=s64",
      "userId": "09930974187097582546"
     },
     "user_tz": 360
    },
    "id": "oNjdTJ-PfU4J",
    "outputId": "a8cd120d-7693-430b-ae45-14fda457186a"
   },
   "outputs": [],
   "source": [
    "reddit_data = load_or_cache_data(\"data/reddit\", \"reddit\")"
   ]
  },
  {
   "cell_type": "markdown",
   "metadata": {
    "id": "RralQjpDWE66"
   },
   "source": [
    "## Load SentenceBERT and W2V embedding models\n",
    "Executing the following two cells for the first time will initiate a series of downloads and preprocessing. The first cell will download a SentenceBERT Transformer model from the HuggingFace repo (if this step hasn't already been done elsewhere).  The second cell will download the original word2vec vectors, a rather large file, and this can take some time. Once completed, all future calls will load these resources from cache first. "
   ]
  },
  {
   "cell_type": "code",
   "execution_count": null,
   "metadata": {
    "executionInfo": {
     "elapsed": 5986,
     "status": "ok",
     "timestamp": 1612812757107,
     "user": {
      "displayName": "Melanie Beck",
      "photoUrl": "https://lh3.googleusercontent.com/a-/AOh14GjLbnYa4ftLBgztDifL0LIFKY8SwjZMZ7xgytOx=s64",
      "userId": "09930974187097582546"
     },
     "user_tz": 360
    },
    "id": "ZfOypuZ8P13N"
   },
   "outputs": [],
   "source": [
    "## Load SBERT embedding model\n",
    "model, tokenizer = load_transformer_model_and_tokenizer(\"deepset/sentence_bert\")"
   ]
  },
  {
   "cell_type": "code",
   "execution_count": null,
   "metadata": {
    "id": "whk_cEkURYl8"
   },
   "outputs": [],
   "source": [
    "## Load W2V embedding model\n",
    "w2v_model = load_word_vector_model(small=True) #, cache_dir=\"data\""
   ]
  },
  {
   "cell_type": "markdown",
   "metadata": {
    "id": "hsZ_6B-Why7y"
   },
   "source": [
    "# Experiment: How many words should we use to create Zmap? \n",
    "\n",
    "For this experiment we'll use the W2V vocabulary, which includes millions of words. As we'll see, we won't need nearly this many to maximize the contribution of Zmap to our latext text classification task. "
   ]
  },
  {
   "cell_type": "markdown",
   "metadata": {
    "id": "Q2ZzscAYWQ4k"
   },
   "source": [
    "### Get SBERT and W2V embedding vectors for the topk words in the W2V vocabulary\n",
    "\n",
    "We'll use the most frequent words as computed over the corpus that was used to train the w2v embeddings. This was a very large corpus so the most frequent words should be those that are used ... well, frequently!  The assumption is that these common words will create an optimal mapping between SBERT space and W2V space.  "
   ]
  },
  {
   "cell_type": "code",
   "execution_count": null,
   "metadata": {
    "id": "Re0vqdsDVrK7"
   },
   "outputs": [],
   "source": [
    "# NOTE: this cell computes SBERT embeddings for thousands of words which are then cached\n",
    "#       running this cell without a GPU can take several hours!\n",
    "\n",
    "# Get w2v embeddings and the vocabulary of most frequent words\n",
    "w2v_vectors, vocabulary = get_topk_w2v_vectors(w2v_model, k=100000, return_word_list=True)\n",
    "vocabulary_filename = fewshot_filename(\"my_data/w2v\", \"w2v_vocab_sbert_embeddings.pt\")\n",
    "\n",
    "try:\n",
    "    sbert_vectors = torch_load(vocabulary_filename)['embeddings']\n",
    "except:\n",
    "    # get sbert embeddings for each word in vocabulary\n",
    "    sbert_vectors = get_sentence_embeddings(vocabulary, \n",
    "                                            model, \n",
    "                                            tokenizer, \n",
    "                                            output_filename=vocabulary_filename)"
   ]
  },
  {
   "cell_type": "markdown",
   "metadata": {
    "id": "v4O5oWmFi_XR"
   },
   "source": [
    "We'll compute Z map with *up to* 100,000 words, starting with just 100 words and increasing in steps of 100 to 1000 until we cover the range up to 100,000. \n",
    "\n",
    "\n",
    "\n",
    "\n",
    "\n",
    "\n",
    "\n",
    "\n",
    "\n"
   ]
  },
  {
   "cell_type": "code",
   "execution_count": null,
   "metadata": {
    "id": "1JJOpJT27Vtt"
   },
   "outputs": [],
   "source": [
    "num_words = np.concatenate((np.arange(10**2, 10**3, 100), np.arange(10**3, 10**5+990, 1000)))"
   ]
  },
  {
   "cell_type": "markdown",
   "metadata": {
    "id": "9K34Gi1EkPES"
   },
   "source": [
    "We'll iterate over the `num_words`, selecting the same words from both the sbert_embeddings and w2v_embeddings. These embeddings will be used to compute Z map. The Z map matrix is then used to compute label predictions for a dataset. The resulting score is stored to an array so we can see how the score changes as a function of the number of words. "
   ]
  },
  {
   "cell_type": "code",
   "execution_count": null,
   "metadata": {
    "id": "lcpdQGN8V-dC"
   },
   "outputs": [],
   "source": [
    "def how_many_words(dataset, num_words):\n",
    "    num_categories = len(dataset.categories)\n",
    "    scores = []\n",
    "    for i in num_words:\n",
    "        # Use Ordinary Least Squares with l2 regularization to compute Zmap \n",
    "        # between the sbert embeddings and w2v embeddings for the first i words\n",
    "        Zmap = OLS_with_l2_regularization(sbert_vectors[:i], to_tensor(w2v_vectors[:i]))\n",
    "        \n",
    "        # Our model (Zmap) is then used as a projection before performing cosine similarity\n",
    "        # the predict_and_score function wraps this process\n",
    "        score = predict_and_score(dataset, [Zmap])\n",
    "        # save the score \n",
    "        scores.append(score)\n",
    "    return scores"
   ]
  },
  {
   "cell_type": "code",
   "execution_count": null,
   "metadata": {
    "id": "9IHULV9OmWdI"
   },
   "outputs": [],
   "source": [
    "news_scores = how_many_words(news_data, num_words)"
   ]
  },
  {
   "cell_type": "code",
   "execution_count": null,
   "metadata": {
    "id": "kVTaGeYorcEC"
   },
   "outputs": [],
   "source": [
    "reddit_scores = how_many_words(reddit_data, num_words)"
   ]
  },
  {
   "cell_type": "code",
   "execution_count": null,
   "metadata": {
    "colab": {
     "base_uri": "https://localhost:8080/",
     "height": 513
    },
    "executionInfo": {
     "elapsed": 1260,
     "status": "ok",
     "timestamp": 1608058567183,
     "user": {
      "displayName": "Melanie Beck",
      "photoUrl": "https://lh3.googleusercontent.com/a-/AOh14GjLbnYa4ftLBgztDifL0LIFKY8SwjZMZ7xgytOx=s64",
      "userId": "09930974187097582546"
     },
     "user_tz": 360
    },
    "id": "qnfh1vItcX7_",
    "outputId": "bdc9566e-ec66-4ac8-d914-d8e1c40bb166"
   },
   "outputs": [],
   "source": [
    "# We've already run this for both agnews and reddit datasets and saved the resulting scores\n",
    "news_scores = pickle_load(fewshot_filename(\"my_data\", \"howmanywords_agnews_scores.pkl\"))\n",
    "reddit_scores = pickle_load(fewshot_filename(\"my_data\",\"howmanywords_redditcurated_scores.pkl\"))\n",
    "\n",
    "fig = plt.figure(figsize=(9,7))\n",
    "ax = fig.add_subplot()\n",
    "\n",
    "ax.plot(num_words, np.array(news_scores)/max(news_scores), lw=2, label='AG News');\n",
    "ax.plot(num_words, np.array(reddit_scores)/max(reddit_scores), lw=2, label='Reddit posts');\n",
    "\n",
    "ax.set_yticks([0.35, 1])\n",
    "ax.set_yticklabels([\"worst\", \"best\"])\n",
    "ax.tick_params(axis='both', labelsize=16)\n",
    "ax.set_xlabel(\"number of words used\", labelpad=20, fontsize=20)\n",
    "ax.set_ylabel(\"classification accuracy\", fontsize=20)\n",
    "ax.set_ylim(.32, 1.03)\n",
    "\n",
    "plt.legend(loc=\"right\", bbox_to_anchor=(1., 0.3),  frameon=False, fontsize=16);\n",
    "plt.tight_layout()\n",
    "plt.savefig(\"Zmaps_howmanywords.png\", dpi=150)"
   ]
  },
  {
   "cell_type": "markdown",
   "metadata": {
    "id": "nYYUJBeR52_o"
   },
   "source": [
    "As we discussed in detail in the accompanying report, we see that both datasets peak around 20,000 words. Using more words to compute Zmap actually results in worse performance. "
   ]
  },
  {
   "cell_type": "markdown",
   "metadata": {
    "id": "K11uA6OxaKq4"
   },
   "source": [
    "# Experiment: vocabulary from the w2v corpus vs your specific corpus?\n",
    "In the previous experiment we used the most frequent words as measured over the vast corpus that the w2v model was trained on, but that's not the only option. Perhaps it's better to use the most frequent words as measured over the dataset you're trying to classify! The intuition here is that words most common to your dataset might provide a better mapping between SBERT and w2v space. \n",
    "\n",
    "For this we'll first want to set a baseline--in this case, classification performance without using any kind of Zmap. "
   ]
  },
  {
   "cell_type": "markdown",
   "metadata": {
    "id": "yzRAH6g5js0p"
   },
   "source": [
    "### Baseline: SBERT embeddings only\n",
    "A Zmap can enhance classification accuracy by providing better modeling of individual words making it easier to map sentences to their labels in the embedding space. However, we can use SBERT embeddings only and this will provide a solid baseline to compare for model improvement. "
   ]
  },
  {
   "cell_type": "code",
   "execution_count": null,
   "metadata": {
    "colab": {
     "base_uri": "https://localhost:8080/"
    },
    "executionInfo": {
     "elapsed": 1428,
     "status": "ok",
     "timestamp": 1612812810550,
     "user": {
      "displayName": "Melanie Beck",
      "photoUrl": "https://lh3.googleusercontent.com/a-/AOh14GjLbnYa4ftLBgztDifL0LIFKY8SwjZMZ7xgytOx=s64",
      "userId": "09930974187097582546"
     },
     "user_tz": 360
    },
    "id": "uXFRfR_QaRCH",
    "outputId": "b91e97e0-6655-405e-fdfa-5e3f86103b1a"
   },
   "outputs": [],
   "source": [
    "baseline_news_acc, news_preds = predict_and_score(news_data, linear_maps=None, return_predictions=True)\n",
    "baseline_news_acc_top3 = simple_topk_accuracy(news_data.labels, news_preds)\n",
    "\n",
    "print(baseline_news_acc, baseline_news_acc_top3)"
   ]
  },
  {
   "cell_type": "code",
   "execution_count": null,
   "metadata": {
    "colab": {
     "base_uri": "https://localhost:8080/"
    },
    "executionInfo": {
     "elapsed": 2068,
     "status": "ok",
     "timestamp": 1612812852629,
     "user": {
      "displayName": "Melanie Beck",
      "photoUrl": "https://lh3.googleusercontent.com/a-/AOh14GjLbnYa4ftLBgztDifL0LIFKY8SwjZMZ7xgytOx=s64",
      "userId": "09930974187097582546"
     },
     "user_tz": 360
    },
    "id": "Hl__tukPvsmy",
    "outputId": "bd51121b-8ed0-480e-97e7-e970c6833e77",
    "scrolled": true
   },
   "outputs": [],
   "source": [
    "baseline_reddit_acc, reddit_preds = predict_and_score(reddit_data, linear_maps=None, return_predictions=True)\n",
    "baseline_reddit_acc_top3 = simple_topk_accuracy(reddit_data.labels, reddit_preds)\n",
    "\n",
    "print(baseline_reddit_acc, baseline_reddit_acc_top3)"
   ]
  },
  {
   "cell_type": "markdown",
   "metadata": {
    "id": "h8XS4gFUjzRe"
   },
   "source": [
    "### Zmap: Construct from most frequent words in w2v training corpus\n",
    "\n",
    "We'll construct a Zmap using the w2v vocabulary consisting of the most frequently used 20,000 words, since we found in the previous section that this provided an optimal Zmap."
   ]
  },
  {
   "cell_type": "code",
   "execution_count": null,
   "metadata": {
    "id": "v0TsQE1Fv6D6",
    "scrolled": false
   },
   "outputs": [],
   "source": [
    "k_words = 20000\n",
    "\n",
    "# if above cells have already been run, no need to recompute sbert embeddings\n",
    "try:    \n",
    "    sbert_vectors_20k = sbert_vectors[:k_words]\n",
    "    w2v_vectors_20k = to_tensor(w2v_vectors[:k_words])\n",
    "\n",
    "# otherwise, compute sbert embeddings from the top 20k w2v words\n",
    "except:\n",
    "    vocabulary_filename = fewshot_filename(\"my_data/w2v\", \"w2v_vocab20k_sbert_embeddings.pt\")\n",
    "    try:\n",
    "        # Load 20k sbert vectors if we've already created them\n",
    "        sbert_vectors_20k = torch_load(vocabulary_filename)['embeddings']\n",
    "    except:\n",
    "        # get sbert embeddings for each word in vocabulary\n",
    "        w2v_vectors_20k, vocabulary = get_topk_w2v_vectors(w2v_model, k=k_words, return_word_list=True)\n",
    "        sbert_vectors_20k = get_sentence_embeddings(vocabulary, \n",
    "                                                    model, \n",
    "                                                    tokenizer, \n",
    "                                                    output_filename=vocabulary_filename)\n",
    "\n",
    "Zmap_w2v = OLS_with_l2_regularization(sbert_vectors_20k, to_tensor(w2v_vectors[:k_words]))\n",
    "# We save this Zmap for use in our few-shot application\n",
    "torch_save(Zmap_w2v, fewshot_filename(\"data/maps\", \"Zmap_20k_w2v_words_alpha0.pt\"))"
   ]
  },
  {
   "cell_type": "code",
   "execution_count": 16,
   "metadata": {
    "id": "zuEOVk5kGFLj"
   },
   "outputs": [
    {
     "name": "stdout",
     "output_type": "stream",
     "text": [
      "65.5657894736842 96.01315789473685\n"
     ]
    }
   ],
   "source": [
    "zw2v_news_acc, news_preds = predict_and_score(news_data, linear_maps=[Zmap_w2v], return_predictions=True)\n",
    "zw2v_news_acc_top3 = simple_topk_accuracy(news_data.labels, news_preds)\n",
    "\n",
    "print(zw2v_news_acc, zw2v_news_acc_top3)"
   ]
  },
  {
   "cell_type": "code",
   "execution_count": 17,
   "metadata": {
    "id": "2M59ezi8HJGr"
   },
   "outputs": [
    {
     "name": "stdout",
     "output_type": "stream",
     "text": [
      "33.52307692307692 60.107692307692304\n"
     ]
    }
   ],
   "source": [
    "zw2v_reddit_acc, reddit_preds = predict_and_score(reddit_data, linear_maps=[Zmap_w2v], return_predictions=True)\n",
    "zw2v_reddit_acc_top3 = simple_topk_accuracy(reddit_data.labels, reddit_preds)\n",
    "\n",
    "print(zw2v_reddit_acc, zw2v_reddit_acc_top3)"
   ]
  },
  {
   "cell_type": "markdown",
   "metadata": {
    "id": "42T40YtuHaAq"
   },
   "source": [
    "Using a Zmap constructed from the most frequent 20k words as measured over the corpus that w2v embeddings were trained on definitely improved performance for the AG news dataset (increasing accuracy by nearly 15 points!), but it made our classification worse for the reddit dataset.\n",
    "\n",
    "word2vec embeddings were trained on 100 billion words of the Google News dataset and the most frequent words are based on the distribution contained with the Google News dataset. It is perhaps not surprising, then, that choosing the most frequent words from a news corpus improves performance on another news corpus. \n",
    "\n",
    "Perhaps using the most frequently used words on Reddit will yield a better choice of Zmap for the reddit dataset. "
   ]
  },
  {
   "cell_type": "markdown",
   "metadata": {
    "id": "Bb1o4X9JnnPC"
   },
   "source": [
    "#### Side Quest: fine-tuning the regularization parameter\n",
    "Turns out you can increase the performance by about another 5 points depending on the regularization parameter. The drawback, however, is that fine-tuning parameters requires *some*  labeled data in order to properly evaluate between different values. In our experiments we find that values beteen 5 and 12 tend to work best for most datasets. "
   ]
  },
  {
   "cell_type": "code",
   "execution_count": 19,
   "metadata": {
    "id": "iiqJc73Xnmam"
   },
   "outputs": [
    {
     "name": "stdout",
     "output_type": "stream",
     "text": [
      "alpha: 0.1 \t news_acc: 66.05263157894737 \t reddit_acc: 35.58461538461539\n",
      "alpha: 1 \t news_acc: 68.38157894736842 \t reddit_acc: 36.69230769230769\n",
      "alpha: 5 \t news_acc: 71.05263157894737 \t reddit_acc: 37.06153846153846\n",
      "alpha: 10 \t news_acc: 71.39473684210526 \t reddit_acc: 36.54615384615384\n",
      "alpha: 15 \t news_acc: 71.01315789473685 \t reddit_acc: 36.16153846153846\n",
      "alpha: 20 \t news_acc: 70.47368421052632 \t reddit_acc: 36.03846153846153\n"
     ]
    }
   ],
   "source": [
    "for alpha in [0.1, 1, 5, 10, 15, 20]:\n",
    "    Zmap = OLS_with_l2_regularization(sbert_vectors_20k, to_tensor(w2v_vectors_20k), alpha=alpha)\n",
    "    news_acc = predict_and_score(news_data, linear_maps=[Zmap], return_predictions=False)\n",
    "    reddit_acc = predict_and_score(reddit_data, linear_maps=[Zmap], return_predictions=False)\n",
    "    print(f\"alpha: {alpha} \\t news_acc: {news_acc} \\t reddit_acc: {reddit_acc}\")"
   ]
  },
  {
   "cell_type": "markdown",
   "metadata": {
    "id": "ZzdLv1JPyGJ6"
   },
   "source": [
    "### Zmap: Construct from most frequent words in a specific corpus (e.g., Reddit)\n",
    "\n",
    "Next, we'll construct a Zmap using the most frequent words as measured over the Reddit dataset. The most common words in the Reddit dataset was explored in [this notebook](https://github.com/fastforwardlabs/few-shot-text-classification/blob/master/notebooks/CreatingRedditDataset.ipynb). \n",
    "\n",
    "**This file is not included in the repo so the cells in this section will not run.**\n",
    "\n",
    "However, we leave these cells in to provide a walk-through of how to perform the analysis. "
   ]
  },
  {
   "cell_type": "code",
   "execution_count": 20,
   "metadata": {
    "id": "Oox1Y3aVXB27"
   },
   "outputs": [],
   "source": [
    "most_common_reddit_words = pickle_load(fewshot_filename(\"my_data/reddit\", \"most_common_words.pkl\"))"
   ]
  },
  {
   "cell_type": "code",
   "execution_count": 21,
   "metadata": {
    "id": "4SHEEkqEXMBP"
   },
   "outputs": [],
   "source": [
    "# not all words have embeddings in the canonical version of w2v\n",
    "# identify top 20k words in the reddit word list that also have w2v embeddings\n",
    "\n",
    "w2v_vectors_redditwords, words_not_found = get_word_embeddings(\n",
    "    most_common_reddit_words['no_punc_no_stop'], \n",
    "    w2v_model)\n",
    "\n",
    "#select the top20k w2v embeddings (corresponding to the top 20k words in common)\n",
    "w2v_vectors_redditwords = w2v_vectors_redditwords[:20000]\n",
    "\n",
    "# identify the words in common\n",
    "words_not_found = set(words_not_found)\n",
    "common_words = []\n",
    "for word in most_common_reddit_words['no_punc_no_stop']:\n",
    "    if word not in words_not_found:\n",
    "        common_words.append(word)\n",
    "\n",
    "top20k_common_words = common_words[:20000]"
   ]
  },
  {
   "cell_type": "code",
   "execution_count": 22,
   "metadata": {
    "id": "Wm8UVJPLdxq2"
   },
   "outputs": [],
   "source": [
    "vocabulary_filename = fewshot_filename(\"my_data/reddit\", \"reddit_vocab20k_sbert_embeddings.pt\")\n",
    "\n",
    "try:\n",
    "    sbert_vectors_redditwords = torch_load(vocabulary_filename)['embeddings']\n",
    "except: \n",
    "    # compute sbert vectors for the top20_common_words\n",
    "    sbert_vectors_redditwords = get_sentence_embeddings(top20k_common_words, \n",
    "                                                        model, \n",
    "                                                        tokenizer, \n",
    "                                                        output_filename=vocabulary_filename)"
   ]
  },
  {
   "cell_type": "code",
   "execution_count": 23,
   "metadata": {
    "id": "_m1iYf9Ecwb4",
    "scrolled": true
   },
   "outputs": [
    {
     "name": "stdout",
     "output_type": "stream",
     "text": [
      "25.6 59.315384615384616\n"
     ]
    }
   ],
   "source": [
    "Zmap_redditwords = OLS_with_l2_regularization(sbert_vectors_redditwords, \n",
    "                                              to_tensor(w2v_vectors_redditwords))\n",
    "\n",
    "zred_reddit_acc, reddit_preds = predict_and_score(reddit_data, linear_maps=[Zmap_redditwords], \n",
    "                                                  return_predictions=True)\n",
    "zred_reddit_acc_top3 = simple_topk_accuracy(reddit_data.labels, reddit_preds)\n",
    "\n",
    "print(zred_reddit_acc, zred_reddit_acc_top3)\n"
   ]
  },
  {
   "cell_type": "markdown",
   "metadata": {
    "id": "k8Xrp2JbzOS9"
   },
   "source": [
    "Unfortunately, constructing Zmap from a vocabulary of the most frequent words in the Reddit dataset doesn't help; in fact, it hurts performance even more! \n",
    "\n",
    "On the bright side, even a small amount of regularization will improve the performance significantly (even if it doesn't outperform using SBERT embeddings alone).  Below, we see that even having `alpha=1` increases the score by 7 points. "
   ]
  },
  {
   "cell_type": "code",
   "execution_count": 24,
   "metadata": {
    "id": "u495-LmfMAax"
   },
   "outputs": [],
   "source": [
    "def fine_tune_alpha(alpha_values, dataset, sbert_vectors, w2v_vectors, verbose=True):\n",
    "\n",
    "    for alpha in alpha_values:\n",
    "        Zmap = OLS_with_l2_regularization(sbert_vectors,to_tensor(w2v_vectors), alpha=alpha)\n",
    "        acc = predict_and_score(dataset, linear_maps=[Zmap], return_predictions=False)\n",
    "        if verbose:\n",
    "            print(f\"alpha: {alpha} \\t score: {acc}\")"
   ]
  },
  {
   "cell_type": "code",
   "execution_count": 25,
   "metadata": {
    "id": "TbMsKJCxitrX"
   },
   "outputs": [
    {
     "name": "stdout",
     "output_type": "stream",
     "text": [
      "alpha: 0 \t score: 25.6\n",
      "alpha: 0.1 \t score: 29.861538461538462\n",
      "alpha: 1 \t score: 32.684615384615384\n",
      "alpha: 5 \t score: 34.19230769230769\n",
      "alpha: 10 \t score: 34.43846153846154\n",
      "alpha: 15 \t score: 34.51538461538461\n"
     ]
    }
   ],
   "source": [
    "alpha = [0, 0.1, 1, 5, 10, 15]\n",
    "fine_tune_alpha(alpha, reddit_data, sbert_vectors_redditwords, w2v_vectors_redditwords)"
   ]
  },
  {
   "cell_type": "markdown",
   "metadata": {},
   "source": [
    "## Summary figure\n",
    "\n",
    "The figure below summarizes our findings so far. \n",
    "1. SBERT embeddings alone can be a quick and intuitive way to compare the similarity of a block of text to a set of possible labels\n",
    "2. Learning a mapping between SBERT embedding space and w2v embeddings space yields a projection matrix that, once applied to the SBERT embeddings, can often increase the classification accuracy of this simpmle method. \n",
    "3. These mappings don't always work, however, as in the case of the Reddit dataset, where overall performance decreased. "
   ]
  },
  {
   "cell_type": "code",
   "execution_count": 26,
   "metadata": {
    "id": "QLtIo1mp0UhJ"
   },
   "outputs": [
    {
     "data": {
      "image/png": "[encoded data removed]",
      "text/plain": [
       "<Figure size 576x432 with 1 Axes>"
      ]
     },
     "metadata": {},
     "output_type": "display_data"
    }
   ],
   "source": [
    "plt.style.use(\"seaborn-white\")\n",
    "cldr_colors = ['#00b6b5', '#f7955b','#6c8cc7']\n",
    "\n",
    "fig = plt.figure(figsize=(8,6))\n",
    "width = 0.25\n",
    "plt.bar(np.array([0, 1])-width/2, \n",
    "        [baseline_news_acc, baseline_reddit_acc], \n",
    "        width=width, \n",
    "        color=cldr_colors[0],  \n",
    "        label='SBERT'\n",
    "        )\n",
    "plt.bar(np.array([0, 1])+width/2, \n",
    "        [zw2v_news_acc, zw2v_reddit_acc], \n",
    "        width=width, \n",
    "        color=cldr_colors[1], \n",
    "        label='SBERT*Zmap'\n",
    "        )\n",
    "plt.xticks([0,1], ['AG News', 'Reddit'], fontsize=16)#\n",
    "plt.yticks(fontsize=16)\n",
    "plt.ylabel(\"Accuracy\", fontsize=20);\n",
    "plt.legend(frameon=False, fontsize=16);\n",
    "plt.tight_layout()\n",
    "plt.savefig(\"accuracy_agnews_reddit.png\", transparent=True, dpi=150)"
   ]
  },
  {
   "cell_type": "markdown",
   "metadata": {
    "id": "A00GEjwh1M2n"
   },
   "source": [
    "# Error analysis\n",
    "\n",
    "Let's take a closer look at how these datasets are composed to see if we can understand why AG News performs well under a Zmap transformation while Reddit performs worse! "
   ]
  },
  {
   "cell_type": "markdown",
   "metadata": {
    "id": "J8WtBrsB179A"
   },
   "source": [
    "### Number of labels\n",
    "\n",
    "The AG News dataset has only four categories, while our subset of Reddit contains posts from 10 different subreddits. This makes the Reddit dataset more difficult from the outset.  "
   ]
  },
  {
   "cell_type": "code",
   "execution_count": 27,
   "metadata": {
    "id": "Z-QnA8xh1O6K"
   },
   "outputs": [
    {
     "data": {
      "text/plain": [
       "['World', 'Sports', 'Business', 'Sci/Tech']"
      ]
     },
     "execution_count": 27,
     "metadata": {},
     "output_type": "execute_result"
    }
   ],
   "source": [
    "news_data.categories"
   ]
  },
  {
   "cell_type": "code",
   "execution_count": 28,
   "metadata": {
    "id": "8p7RDFSc2JwI"
   },
   "outputs": [
    {
     "data": {
      "text/plain": [
       "['fitness',\n",
       " 'funny',\n",
       " 'gaming',\n",
       " 'personal finance',\n",
       " 'politics',\n",
       " 'relationships',\n",
       " 'sex',\n",
       " 'technology',\n",
       " 'trees',\n",
       " 'world news']"
      ]
     },
     "execution_count": 28,
     "metadata": {},
     "output_type": "execute_result"
    }
   ],
   "source": [
    "reddit_data.categories"
   ]
  },
  {
   "cell_type": "markdown",
   "metadata": {},
   "source": [
    "More importantly, we can see that the category names are different.  The latent text embedding method relies heavily on the semantic meaning of category names so perhaps subreddit names are more difficult to predict on than AG News category names. \n",
    "\n",
    "Below we explore the classification predictions for each subreddit using SBERT embeddings alone, and after applying the two Zmaps we learned: the one using w2v's vocabulary, and the other using Reddit's vocabulary. "
   ]
  },
  {
   "cell_type": "code",
   "execution_count": 29,
   "metadata": {
    "id": "8c2veWiA6bSw"
   },
   "outputs": [],
   "source": [
    "acc, preds = predict_and_score(reddit_data, linear_maps=None, return_predictions=True)\n",
    "acc, preds_zw2v = predict_and_score(reddit_data, linear_maps=[Zmap_w2v], return_predictions=True)\n",
    "acc, preds_zred = predict_and_score(reddit_data, linear_maps=[Zmap_redditwords], return_predictions=True)"
   ]
  },
  {
   "cell_type": "code",
   "execution_count": 30,
   "metadata": {
    "id": "xLL58fPy-s2x"
   },
   "outputs": [],
   "source": [
    "# create lists of label predictions from the Prediction object returned by predict_and_score\n",
    "best = [p.best for p in preds]\n",
    "best_zw2v = [p.best for p in preds_zw2v]\n",
    "best_zred = [p.best for p in preds_zred]"
   ]
  },
  {
   "cell_type": "code",
   "execution_count": 31,
   "metadata": {
    "id": "noHrLQNkAsEH"
   },
   "outputs": [],
   "source": [
    "# count how many examples were assigned a given label\n",
    "thing, best_counts = np.unique(best, return_counts=True)\n",
    "_, best_zw2v_counts = np.unique(best_zw2v, return_counts=True)\n",
    "_, best_zred_counts = np.unique(best_zred, return_counts=True)"
   ]
  },
  {
   "cell_type": "code",
   "execution_count": 32,
   "metadata": {
    "id": "pDmxy3QzDQsU"
   },
   "outputs": [
    {
     "data": {
      "image/png": "[encoded data removed]",
      "text/plain": [
       "<Figure size 648x504 with 1 Axes>"
      ]
     },
     "metadata": {},
     "output_type": "display_data"
    }
   ],
   "source": [
    "plt.style.use(\"seaborn-white\")\n",
    "\n",
    "fig = plt.figure(figsize=(9,7))\n",
    "ax = fig.add_subplot(111)\n",
    "\n",
    "width = .25\n",
    "ax.barh(np.array(thing)-width,\n",
    "         best_counts,  \n",
    "         height=width,\n",
    "         color=cldr_colors[0],\n",
    "         label='SBERT'\n",
    "        )\n",
    "ax.barh(np.array(thing),\n",
    "         best_zw2v_counts, \n",
    "         height=width, \n",
    "         color=cldr_colors[1],\n",
    "         label='SBERT*Zmap (w2v words)'\n",
    "         )\n",
    "ax.barh(np.array(thing)+width,\n",
    "         best_zred_counts,\n",
    "         height=width, \n",
    "         color=cldr_colors[2],\n",
    "         label='SBERT*Zmap (Reddit words)'\n",
    "         )\n",
    "ax.set_yticks(thing)\n",
    "ax.set_yticklabels(reddit_data.categories)\n",
    "ax.invert_yaxis()\n",
    "ax.tick_params(axis=\"both\", labelsize=16)\n",
    "ax.set_xlabel(\"Examples\", fontsize=20);\n",
    "ax.legend(frameon=False, fontsize=16);\n",
    "ax.set_title(\"[Reddit] Number of predictions in each subreddit\", fontsize=20)\n",
    "plt.tight_layout()\n",
    "plt.savefig(\"reddit_bycategory.png\", transparent=True, dpi=150)"
   ]
  },
  {
   "cell_type": "markdown",
   "metadata": {},
   "source": [
    "The Reddit dataset contains 1300 examples in each subreddit. If our classification were perfect, each of these bars would fall at exactly 1300 -- but they obviously do not. \n",
    "\n",
    "We see that when we apply various Zmaps to the SBERT embeddings, more and more examples are predicted to fall into the `funny` subreddit. The shift is most noticeable when using a Zmap that has been constructed with words from Reddit's own vocabulary. This makes sense because \"funny\" is a very general and subjective word and humans love humor. We speculate that, rather than being a flaw in the method itself, what we see here is a consequence of over-generalized subreddit names. *Anything* can be funny, and as we construct better Zmaps, we only serve to accentuate this trend. "
   ]
  },
  {
   "cell_type": "code",
   "execution_count": 33,
   "metadata": {
    "id": "XbFofvKtDaTJ"
   },
   "outputs": [],
   "source": [
    "news_acc, news_preds = predict_and_score(news_data, linear_maps=None, return_predictions=True)\n",
    "\n",
    "news_acc, news_preds_zw2v = predict_and_score(news_data, linear_maps=[Zmap_w2v], return_predictions=True)\n",
    "\n",
    "news_best = [p.best for p in news_preds]\n",
    "news_best_zw2v = [p.best for p in news_preds_zw2v]\n",
    "\n",
    "other_thing, news_best_counts = np.unique(news_best, return_counts=True)\n",
    "_, news_best_zw2v_counts = np.unique(news_best_zw2v, return_counts=True)"
   ]
  },
  {
   "cell_type": "code",
   "execution_count": 34,
   "metadata": {
    "id": "ctaBJwcXJBp6"
   },
   "outputs": [
    {
     "data": {
      "image/png": "[encoded data removed]",
      "text/plain": [
       "<Figure size 576x432 with 1 Axes>"
      ]
     },
     "metadata": {},
     "output_type": "display_data"
    }
   ],
   "source": [
    "plt.style.use(\"seaborn-white\")\n",
    "\n",
    "fig = plt.figure(figsize=(8,6))\n",
    "ax = fig.add_subplot(111)\n",
    "\n",
    "width = .25\n",
    "ax.barh(np.array(other_thing)-width/2, \n",
    "        news_best_counts, \n",
    "        height=width, \n",
    "        color=cldr_colors[0], \n",
    "        label='SBERT'\n",
    "        )\n",
    "ax.barh(np.array(other_thing)+width/2, \n",
    "        news_best_zw2v_counts, \n",
    "        height=width, \n",
    "        color=cldr_colors[1], \n",
    "        label='SBERT*Zmap'\n",
    "        )\n",
    "\n",
    "ax.set_yticks(other_thing)\n",
    "ax.set_yticklabels(news_data.categories)\n",
    "ax.invert_yaxis()\n",
    "ax.tick_params(axis='both', labelsize=16)\n",
    "ax.set_xlabel(\"Examples\", fontsize=20)\n",
    "ax.set_xlim(0, 3800)\n",
    "ax.set_title(\"[AG News] Number of predictions in each news category\", fontsize=20)\n",
    "ax.legend(frameon=False, fontsize=16);\n",
    "plt.tight_layout()\n",
    "plt.savefig(\"agnews_bycategory.png\", transparent=True, dpi=150)"
   ]
  },
  {
   "cell_type": "markdown",
   "metadata": {},
   "source": [
    "The story is different for the AG News dataset. When we apply a Zmap constructed from w2v's vocabulary we see that the number of examples predicted in each category comes closer to what the true value should be (this dataset has 1900 examples per category so a perfect graph would show each orange bar at exactly 1900). \n",
    "\n",
    "In this case we didn't construct a Zmap from the AG News vocabulary because the w2v vocabulary was already based on news articles, similar enough to the AG News dataset. "
   ]
  },
  {
   "cell_type": "markdown",
   "metadata": {
    "id": "i4OYfWGA52_w"
   },
   "source": [
    "***If this documentation includes code, including but not limited to, code examples, Cloudera makes this available to you under the terms of the Apache License, Version 2.0, including any required notices.  A copy of the Apache License Version 2.0 can be found [here](https://opensource.org/licenses/Apache-2.0).***"
   ]
  }
 ],
 "metadata": {
  "accelerator": "GPU",
  "colab": {
   "collapsed_sections": [],
   "machine_shape": "hm",
   "name": "Zmap_Experiments.ipynb",
   "provenance": [],
   "toc_visible": true
  },
  "kernelspec": {
   "display_name": "Python 3",
   "language": "python",
   "name": "python3"
  },
  "language_info": {
   "codemirror_mode": {
    "name": "ipython",
    "version": 3
   },
   "file_extension": ".py",
   "mimetype": "text/x-python",
   "name": "python",
   "nbconvert_exporter": "python",
   "pygments_lexer": "ipython3",
   "version": "3.7.9"
  }
 },
 "nbformat": 4,
 "nbformat_minor": 1
}
