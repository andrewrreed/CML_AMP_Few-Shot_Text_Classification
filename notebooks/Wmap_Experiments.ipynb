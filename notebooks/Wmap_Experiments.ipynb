{
 "cells": [
  {
   "cell_type": "markdown",
   "metadata": {
    "id": "Yz2Q2vScnodT"
   },
   "source": [
    "# Training Wmap for few-shot text classification\n",
    "This notebook is the second of two to accompany our [Few-Shot Text Classification](https://few-shot-text-classification.fastforwardlabs.com/) report in which we dive into the ins and outs of latent text embeddings for text classifications in several limited-labeled-data regimes. In this notebook we explore how to use latent text embeddings when there are *some* labeled training examples for each of the label names of interest. \n",
    "\n",
    "The technique is a continuation of our first notebook in which we demonstrated how to perform text classification with *no* labeled training data by relying on the semantic meaning of the labels themselves. In this method, label names and the text document you wish to classify are embedded with Sentence-BERT (SBERT). Classification proceeds by assiging the label name whose embedding maximizes the cosine similarity to the text document embedding. \n",
    "\n",
    "In our first notebook ([Optimizing Zmap for \"on-the-fly\" text classification](https://github.com/fastforwardlabs/few-shot-text-classification/blob/88854041ccea4f94bc4d25aefe479576854d5e24/notebooks/Zmap_Experiments.ipynb)) we improved on this method by optimizing a mapping (Zmap) between SBERT space and word2vec (w2v) space since SBERT is primed to produce better *sentence* embeddings, while w2v produces better *word* embeddings. \n",
    "\n",
    "In this notebook, we'll build on this technique and demonstrate how to learn an additional mapping (Wmap) using **labeled** training data.  \n",
    "\n",
    "### Notes\n",
    "* This notebook makes use of large Transformer models so **GPUs are strongly prefered**. \n",
    "* You can access free GPUs by running this notebook with Google Colaboratory, a Jupyter Notebook environment that runs in the browser using Google Cloud. [Open this notebook as a Colab.](https://colab.research.google.com/github/fastforwardlabs/few-shot-text-classification/blob/master/notebooks/Wmap_Experiments.ipynb) \n",
    "\n",
    "---\n",
    "\n",
    "While most cells in this notebook can be executed, **it is not intended to be run from start to finish because it requires data resources that we do not currently include in the repo.** Specifically, the cells focused on the AG News dataset can be executed all the way through, however, cells processing Reddit data will be missing key data resources. \n",
    "\n",
    "This notebook is intended as an additional resource that walks through the analysis we performed for our [Few-Shot Text Classification](https://few-shot-text-classification.fastforwardlabs.com/) report. \n",
    "\n",
    "---"
   ]
  },
  {
   "cell_type": "markdown",
   "metadata": {
    "id": "KUlloJP7tCze"
   },
   "source": [
    "## Installation in a Colab environment\n",
    "If you followed the installation instructions in the README and are running this notebook locally or in your CML/CDSW environment, you can skip this section. \n",
    "\n",
    "However, if you'd like to take advantage of Google Colab's free GPUs, follow the steps below. \n",
    "\n",
    "1. [Open this notebook as a Colab](https://colab.research.google.com/github/fastforwardlabs/few-shot-text-classification/blob/master/notebooks/Wmap_Experiments.ipynb) \n",
    "2. In the top menu select Runtime --> Change runtime type\n",
    "3. A pop-up menu will appear.  Under Hardware accelerator, select GPU\n",
    "\n",
    "Now follow the installation and data download steps below. "
   ]
  },
  {
   "cell_type": "code",
   "execution_count": 1,
   "metadata": {
    "colab": {
     "base_uri": "https://localhost:8080/"
    },
    "executionInfo": {
     "elapsed": 9907,
     "status": "ok",
     "timestamp": 1612973507737,
     "user": {
      "displayName": "Melanie Beck",
      "photoUrl": "https://lh3.googleusercontent.com/a-/AOh14GjLbnYa4ftLBgztDifL0LIFKY8SwjZMZ7xgytOx=s64",
      "userId": "09930974187097582546"
     },
     "user_tz": 360
    },
    "id": "sSaN1tfF7gTA",
    "outputId": "be7204c9-4771-4e43-ed8f-393c471d4394"
   },
   "outputs": [
    {
     "name": "stdout",
     "output_type": "stream",
     "text": [
      "Cloning into 'few-shot-text-classification'...\n",
      "remote: Enumerating objects: 375, done.\u001b[K\n",
      "remote: Counting objects: 100% (375/375), done.\u001b[K\n",
      "remote: Compressing objects: 100% (238/238), done.\u001b[K\n",
      "remote: Total 942 (delta 224), reused 267 (delta 136), pack-reused 567\u001b[K\n",
      "Receiving objects: 100% (942/942), 124.00 MiB | 36.90 MiB/s, done.\n",
      "Resolving deltas: 100% (571/571), done.\n"
     ]
    }
   ],
   "source": [
    "# clone our few-shot repo\n",
    "!git clone https://github.com/fastforwardlabs/few-shot-text-classification.git"
   ]
  },
  {
   "cell_type": "code",
   "execution_count": null,
   "metadata": {},
   "outputs": [],
   "source": [
    "!mv few-shot-text-classification/fewshot . \n",
    "!mv few-shot-text-classification/setup.py .\n",
    "!mv few-shot-text-classification/data ."
   ]
  },
  {
   "cell_type": "code",
   "execution_count": null,
   "metadata": {
    "id": "oukP7QcK7jzh"
   },
   "outputs": [],
   "source": [
    "!pip3 install datasets==1.1.2\n",
    "!pip3 install transformers==3.3.0\n",
    "!pip3 install -e ."
   ]
  },
  {
   "cell_type": "markdown",
   "metadata": {
    "id": "QVgrtHcltCzg"
   },
   "source": [
    "# Getting started"
   ]
  },
  {
   "cell_type": "code",
   "execution_count": 3,
   "metadata": {
    "executionInfo": {
     "elapsed": 14417,
     "status": "ok",
     "timestamp": 1612973685072,
     "user": {
      "displayName": "Melanie Beck",
      "photoUrl": "https://lh3.googleusercontent.com/a-/AOh14GjLbnYa4ftLBgztDifL0LIFKY8SwjZMZ7xgytOx=s64",
      "userId": "09930974187097582546"
     },
     "user_tz": 360
    },
    "id": "I59CP0CfGARb"
   },
   "outputs": [],
   "source": [
    "import os\n",
    "import pandas as pd\n",
    "import numpy as np\n",
    "from sklearn.model_selection import train_test_split\n",
    "import matplotlib.pyplot as plt\n",
    "import torch\n",
    "\n",
    "from fewshot.data.loaders import (\n",
    "    load_or_cache_data, \n",
    "    _load_agnews_dataset,\n",
    "    _create_dataset_from_df\n",
    ")\n",
    "\n",
    "from fewshot.data.utils import select_subsample, expand_labels\n",
    "\n",
    "from fewshot.embeddings.sentence_embeddings import (\n",
    "    load_transformer_model_and_tokenizer,\n",
    "    get_sentence_embeddings,\n",
    ")\n",
    "\n",
    "from fewshot.models.few_shot import (\n",
    "    FewShotLinearRegression, \n",
    "    BayesianMSELoss,\n",
    "    prepare_dataloader,\n",
    "    train,\n",
    ")   \n",
    "\n",
    "from fewshot.eval import predict_and_score\n",
    "\n",
    "from fewshot.utils import (\n",
    "    fewshot_filename,\n",
    "    torch_load,\n",
    "    torch_save,\n",
    "    pickle_load,\n",
    "    pickle_save,\n",
    "    to_tensor,\n",
    "    to_list,\n",
    ")\n"
   ]
  },
  {
   "cell_type": "code",
   "execution_count": null,
   "metadata": {
    "id": "2zCzgtpBtCzg"
   },
   "outputs": [],
   "source": [
    "import nltk\n",
    "nltk.download('stopwords')\n",
    "nltk.download('punkt')"
   ]
  },
  {
   "cell_type": "markdown",
   "metadata": {
    "id": "Ru-jr38mtCzk"
   },
   "source": [
    "## Load SentenceBERT \n",
    "\n",
    "Running the cell below for the first time will initialize a download of pretrained model weights from the [HuggingFace Model Repository](https://huggingface.co/models). "
   ]
  },
  {
   "cell_type": "code",
   "execution_count": null,
   "metadata": {
    "id": "4SsT6W6ZGFYk"
   },
   "outputs": [],
   "source": [
    "## Load SBERT embedding model\n",
    "model, tokenizer = load_transformer_model_and_tokenizer(\"deepset/sentence_bert\")"
   ]
  },
  {
   "cell_type": "markdown",
   "metadata": {
    "id": "POMpbg7XeghT"
   },
   "source": [
    "## Load Training & Validation Data\n",
    "  In the following experiments we use two datasets: AG News and the Reddit dataset, both of which can be found on the [HuggingFace Dataset Repository](https://huggingface.co/datasets) (CAUTION: the Reddit dataset is *very* large and takes a looooong time to download. In our experiments we have already downsampled the dataset to fit in memory. Details on how we did that can be found in [this notebook](https://github.com/fastforwardlabs/few-shot-text-classification/blob/88854041ccea4f94bc4d25aefe479576854d5e24/notebooks/CreatingRedditDataset.ipynb).)\n",
    "\n",
    "The AG News train set contains 120,000 examples, of which we'll randomly sample up to 1000 for training (in a later block) and exactly 1000 as a validation set. \n"
   ]
  },
  {
   "cell_type": "code",
   "execution_count": null,
   "metadata": {
    "id": "1zEf9C0tGaB8"
   },
   "outputs": [],
   "source": [
    "# load agnews train set -- this returns the full 120k examples as a pandas dataframe\n",
    "df_news = _load_agnews_dataset(split=\"train\")"
   ]
  },
  {
   "cell_type": "code",
   "execution_count": null,
   "metadata": {
    "id": "z1zYh4MkTwqB",
    "scrolled": true
   },
   "outputs": [],
   "source": [
    "# Generate a subset containing 2000 examples for each category\n",
    "df_news_subset = select_subsample(df_news, sample_size=2000, random_state=42)\n",
    "\n",
    "# Split the sample in half -- 1000 for training, 1000 for validation\n",
    "df_news_train, df_news_valid, _, _ = train_test_split(df_news_subset, \n",
    "                                                      df_news_subset['category'], \n",
    "                                                      test_size=.5, \n",
    "                                                      random_state=42, \n",
    "                                                      stratify=df_news_subset['category'])"
   ]
  },
  {
   "cell_type": "code",
   "execution_count": null,
   "metadata": {
    "colab": {
     "base_uri": "https://localhost:8080/"
    },
    "executionInfo": {
     "elapsed": 64602,
     "status": "ok",
     "timestamp": 1612893259618,
     "user": {
      "displayName": "Melanie Beck",
      "photoUrl": "https://lh3.googleusercontent.com/a-/AOh14GjLbnYa4ftLBgztDifL0LIFKY8SwjZMZ7xgytOx=s64",
      "userId": "09930974187097582546"
     },
     "user_tz": 360
    },
    "id": "7uqiCExrtCzi",
    "outputId": "064cfb8b-bd6a-482b-ac0d-1c53ea0a2076"
   },
   "outputs": [
    {
     "name": "stderr",
     "output_type": "stream",
     "text": [
      "Computing sentence representations: 100%|██████████| 251/251 [00:53<00:00,  4.72it/s]\n"
     ]
    }
   ],
   "source": [
    "# Compute SBERT embeddings for each example in the validation set\n",
    "news_valid = _create_dataset_from_df(df_news_valid, 'text')"
   ]
  },
  {
   "cell_type": "code",
   "execution_count": null,
   "metadata": {
    "id": "YuMBYg4dtCzi"
   },
   "outputs": [],
   "source": [
    "pickle_save(news_valid_data, \"../my_data/agnews/agnews_subset_train1000.pkl\")"
   ]
  },
  {
   "cell_type": "markdown",
   "metadata": {
    "id": "fcO30RS4Cdpu"
   },
   "source": [
    "The Reddit dataset contains nearly 4M examples and is around 20 GiB. In a separate notebook we have already downsampled this dataset to include only 16 of the most popular subreddits and, from those, randomly selected 1000 for training and 1000 for validation. We uploaded these subsets to this notebook. \n",
    "\n",
    "**Note: these resources are not currently included in the repo so this cell will not execute.**"
   ]
  },
  {
   "cell_type": "code",
   "execution_count": null,
   "metadata": {
    "id": "ONvasrIfNbYZ"
   },
   "outputs": [],
   "source": [
    "df_reddit_train = pd.read_csv(\"data/reddit/reddit_subset_train1000.csv\")\n",
    "df_reddit_valid = pd.read_csv(\"data/reddit/reddit_subset_valid1000.csv\")"
   ]
  },
  {
   "cell_type": "markdown",
   "metadata": {
    "id": "ooKp97cTen3N"
   },
   "source": [
    "## Load Test Data\n",
    "\n",
    "These are the same sets that were used in the first notebook of this series which demonstrated how to classify text documents without any training data. Here, they will serve as evaluation sets. At the end of this notebook we compare classification performance between having *no* training data and having *some*.  "
   ]
  },
  {
   "cell_type": "code",
   "execution_count": null,
   "metadata": {
    "colab": {
     "base_uri": "https://localhost:8080/"
    },
    "executionInfo": {
     "elapsed": 1077,
     "status": "ok",
     "timestamp": 1612901935903,
     "user": {
      "displayName": "Melanie Beck",
      "photoUrl": "https://lh3.googleusercontent.com/a-/AOh14GjLbnYa4ftLBgztDifL0LIFKY8SwjZMZ7xgytOx=s64",
      "userId": "09930974187097582546"
     },
     "user_tz": 360
    },
    "id": "4xHawCeoL6u8",
    "outputId": "510e20b9-8a09-4cd0-9a9f-acc39faf6db5"
   },
   "outputs": [
    {
     "name": "stdout",
     "output_type": "stream",
     "text": [
      "Checking for cached data...\n"
     ]
    }
   ],
   "source": [
    "reddit_test = load_or_cache_data(\"data/reddit\", \"reddit\")"
   ]
  },
  {
   "cell_type": "code",
   "execution_count": null,
   "metadata": {
    "colab": {
     "base_uri": "https://localhost:8080/"
    },
    "executionInfo": {
     "elapsed": 712,
     "status": "ok",
     "timestamp": 1612901937370,
     "user": {
      "displayName": "Melanie Beck",
      "photoUrl": "https://lh3.googleusercontent.com/a-/AOh14GjLbnYa4ftLBgztDifL0LIFKY8SwjZMZ7xgytOx=s64",
      "userId": "09930974187097582546"
     },
     "user_tz": 360
    },
    "id": "D19hS-TALuNI",
    "outputId": "cc194bcb-3d50-4bb6-e671-cd9cbb531cb8"
   },
   "outputs": [
    {
     "name": "stdout",
     "output_type": "stream",
     "text": [
      "Checking for cached data...\n"
     ]
    }
   ],
   "source": [
    "news_test = load_or_cache_data(\"data/agnews\", \"agnews\")"
   ]
  },
  {
   "cell_type": "markdown",
   "metadata": {
    "id": "_tW2jbIYHLBj"
   },
   "source": [
    "## Load a Zmap \n",
    "In this notebook we'll use training data to learn a new transformation, Wmap, which is learned from SBERT*Zmap representations. The Zmap in the cell below was optimized in our [first notebook](https://github.com/fastforwardlabs/few-shot-text-classification/blob/88854041ccea4f94bc4d25aefe479576854d5e24/notebooks/Zmap_Experiments.ipynb) and we reuse it here. "
   ]
  },
  {
   "cell_type": "code",
   "execution_count": null,
   "metadata": {
    "id": "dbYFOZ1Uc00t"
   },
   "outputs": [],
   "source": [
    "# Load a relevant Zmap for this dataset \n",
    "# Note: this one is the most general and will work for all datasets\n",
    "Zmap_w2v = torch_load(fewshot_filename(\"data/maps\", \"Zmap_20k_w2v_words_alpha0.pt\"))"
   ]
  },
  {
   "cell_type": "markdown",
   "metadata": {
    "id": "cp501urx-jHi"
   },
   "source": [
    "# Hyperparameter search \n",
    "\n",
    "A hyperparameter search is an essential part of any machine learning workflow. This often requires additional labeled data, specifically, a reasonably-sized validation set. In a real few-shot situation, we may not have enough data to split off a validation set from our training set.  In that case, a cross validation scheme would be more appropriate. \n",
    "\n",
    "Fortunately, the AG News and Reddit datasets have plenty of labeled data, which allows us to create validation and training sets in order to perform this crucial step. This also allows us to provide guidance on rule-of-thumb values that we found work well, hopefully saving you time when applying this technique to your data. We caution that while we found values that seem to translate well across datasets, they are not guaranteed to optimize the performance for your particular use case.  \n",
    "\n",
    "Executing the cells below will re-run our simple hyperparameter tuning process. The `FewShotLinearRegression` model has two hyperparameters: the `learning rate` and the value of the regularization, `lambda`. "
   ]
  },
  {
   "cell_type": "code",
   "execution_count": null,
   "metadata": {
    "id": "YCf3d950T4_0"
   },
   "outputs": [],
   "source": [
    "def hptuning(data_loader, Zmap, validation_data, learning_rates, lambdas, epochs, device='cpu'):\n",
    "    \"\"\"Simple hyperparameter tuning strategy for Wmap\"\"\"\n",
    "    score = 0\n",
    "    for lr in learning_rates:\n",
    "        for lam in lambdas:\n",
    "            # instantiate a model and loss function\n",
    "            fewshot_model = FewShotLinearRegression(Zmap.size()[1], Zmap.size()[1], \n",
    "                                                    loss_fcn=BayesianMSELoss(device=device), \n",
    "                                                    lr=lr, \n",
    "                                                    device=device)\n",
    "            # train\n",
    "            loss_history = train(fewshot_model, data_loader, num_epochs=epochs, lam=lam)\n",
    "            # extract model weights\n",
    "            Wmap = fewshot_model.linear.weight.detach().cpu()\n",
    "            # predict and score on the validation set\n",
    "            new_score = predict_and_score(validation_data, linear_maps=[Zmap, Wmap])\n",
    "\n",
    "            if new_score > score:\n",
    "                score = new_score\n",
    "                best_lr = lr\n",
    "                best_lam = lam\n",
    "                best_model = fewshot_model\n",
    "                loss = loss_history\n",
    "                print(f\"Best hps so far: ({best_lr}, {best_lam}) with a score of {score}\")\n",
    "\n",
    "    return best_model, best_lr, best_lam, loss"
   ]
  },
  {
   "cell_type": "markdown",
   "metadata": {
    "id": "922MndUnhiFC"
   },
   "source": [
    "We ran the cell below several times using training sets ranging from a few hundred to a few thousand examples for each of the AG News and Reddit datasets.  In most cases, we found a `learning_rate=0.01` and `lambda=100` optimized the model on the validation set. However, we get just about the same performance with `learning_rate=0.1` and `lambda=500` (about a one point difference). Smaller learning rates require more epochs to fully minimize the loss function which translates to slower model training. For this reason, we opt to use the latter set of parameters with fewer epochs for the remainder of the notebook. \n",
    "\n",
    "**Note: running this cell takes about a half hour with a GPU and much longer without.**"
   ]
  },
  {
   "cell_type": "code",
   "execution_count": null,
   "metadata": {
    "colab": {
     "base_uri": "https://localhost:8080/"
    },
    "executionInfo": {
     "elapsed": 324573,
     "status": "ok",
     "timestamp": 1612910946026,
     "user": {
      "displayName": "Melanie Beck",
      "photoUrl": "https://lh3.googleusercontent.com/a-/AOh14GjLbnYa4ftLBgztDifL0LIFKY8SwjZMZ7xgytOx=s64",
      "userId": "09930974187097582546"
     },
     "user_tz": 360
    },
    "id": "Qt7d-HwuhRgb",
    "outputId": "91b04a0b-b3fe-466c-b47f-f060694bc8c2"
   },
   "outputs": [
    {
     "name": "stderr",
     "output_type": "stream",
     "text": [
      "Computing sentence representations: 100%|██████████| 51/51 [00:10<00:00,  4.79it/s]\n"
     ]
    },
    {
     "name": "stdout",
     "output_type": "stream",
     "text": [
      "Best hps so far: (0.01, 50) with a score of 75.225\n",
      "Best hps so far: (0.01, 100) with a score of 77.825\n",
      "0.01 100\n"
     ]
    }
   ],
   "source": [
    "# choose a training set\n",
    "train_set = \"agnews\" # \"reddit\"\n",
    "\n",
    "if train_set == \"agnews\":\n",
    "    df_train_set = df_news_train \n",
    "    validation_set = news_valid\n",
    "else:\n",
    "    df_train_set = df_reddit_train\n",
    "    validiation_set = reddit_valid\n",
    "\n",
    "# choose number of examples per category \n",
    "# for AG News, total training set = 4*samples_per_category\n",
    "# for Reddit, total training set = 10*samples_per_cateogry\n",
    "samples_per_category = 200\n",
    "\n",
    "# randomly sample a subset of training examples\n",
    "df_train_subset = select_subsample(df_train_set, sample_size=samples_per_category)\n",
    "# convert the pandas dataframe into a dataset\n",
    "train_subset = _create_dataset_from_df(df_train_subset, 'text')\n",
    "# compute sbert embeddings for each example text\n",
    "#train_subset.calc_sbert_embeddings()\n",
    "# ensure each example has a sbert embedding for its category name\n",
    "train_subset = expand_labels(train_subset)\n",
    "# convert the dataset into a PyTorch Dataloader object\n",
    "data_loader = prepare_dataloader(train_subset, Zmap_w2v)\n",
    "\n",
    "# learning rates to tune over\n",
    "lrs = [0.01, .1, .5]\n",
    "# lambda regularization values to tune over\n",
    "lambdas = [50, 100, 500, 750, 1000]\n",
    "epochs = 1000\n",
    "\n",
    "# hyperparameter tuning\n",
    "best_model, best_lr, best_lam, loss = hptuning(data_loader, \n",
    "                                               Zmap_w2v,\n",
    "                                               validation_set, \n",
    "                                               lrs, \n",
    "                                               lambdas, \n",
    "                                               epochs,\n",
    "                                               device='cuda')\n",
    "\n",
    "print(best_lr, best_lam)"
   ]
  },
  {
   "cell_type": "code",
   "execution_count": null,
   "metadata": {
    "colab": {
     "base_uri": "https://localhost:8080/",
     "height": 279
    },
    "executionInfo": {
     "elapsed": 606,
     "status": "ok",
     "timestamp": 1612911508980,
     "user": {
      "displayName": "Melanie Beck",
      "photoUrl": "https://lh3.googleusercontent.com/a-/AOh14GjLbnYa4ftLBgztDifL0LIFKY8SwjZMZ7xgytOx=s64",
      "userId": "09930974187097582546"
     },
     "user_tz": 360
    },
    "id": "jKYrO-Yp4uAU",
    "outputId": "89d09c17-1d59-49b4-8835-5794d98e81ce"
   },
   "outputs": [
    {
     "data": {
      "text/plain": [
       "[<matplotlib.lines.Line2D at 0x7f53cbf6a0b8>]"
      ]
     },
     "execution_count": 104,
     "metadata": {
      "tags": []
     },
     "output_type": "execute_result"
    },
    {
     "data": {
      "image/png": "[encoded data removed]",
      "text/plain": [
       "<Figure size 432x288 with 1 Axes>"
      ]
     },
     "metadata": {
      "tags": []
     },
     "output_type": "display_data"
    }
   ],
   "source": [
    "plt.plot(loss)"
   ]
  },
  {
   "cell_type": "markdown",
   "metadata": {
    "id": "o3AgkB1CgA68"
   },
   "source": [
    "# Training Wmap on the AG News dataset\n",
    "\n",
    "In this experiment we'll train Wmap using some number of labeled examples for each category. \n",
    "\n",
    "Wmap is learned through a modification of the traditional loss function for linear least-squares regression with l2 regularization. See the details in our accompanying [report](https://few-shot-text-classification.fastforwardlabs.com/)."
   ]
  },
  {
   "cell_type": "markdown",
   "metadata": {
    "id": "O-1j3VSDBO5A"
   },
   "source": [
    "### Training set of 400 examples (100 examples per category)\n",
    "\n",
    "To begin, we'll start with just 100 annotated examples for each of the four categories in the AG News dataset, for a total of 400 labeled examples. "
   ]
  },
  {
   "cell_type": "code",
   "execution_count": null,
   "metadata": {
    "colab": {
     "base_uri": "https://localhost:8080/"
    },
    "executionInfo": {
     "elapsed": 14705,
     "status": "ok",
     "timestamp": 1612911689566,
     "user": {
      "displayName": "Melanie Beck",
      "photoUrl": "https://lh3.googleusercontent.com/a-/AOh14GjLbnYa4ftLBgztDifL0LIFKY8SwjZMZ7xgytOx=s64",
      "userId": "09930974187097582546"
     },
     "user_tz": 360
    },
    "id": "LcW8edFM1uZR",
    "outputId": "86434b14-632b-404f-b2e4-b8c9e5176831"
   },
   "outputs": [
    {
     "name": "stderr",
     "output_type": "stream",
     "text": [
      "/content/fewshot/data/utils.py:81: UserWarning: Should run dataset.calc_sbert_embeddings() first.  In the future this will fail.\n",
      "  \"Should run dataset.calc_sbert_embeddings() first.  In the future this will fail.\"\n",
      "Computing sentence representations: 100%|██████████| 26/26 [00:05<00:00,  4.85it/s]\n"
     ]
    }
   ],
   "source": [
    "# select a subsample of the AG news train set containing, at most, 400 examples \n",
    "df_news_train100 = select_subsample(df_news_train, sample_size=100)\n",
    "\n",
    "# convert that DataFrame to a Dataset\n",
    "news_train100 = _create_dataset_from_df(df_news_train100, 'text')\n",
    "# compute sbert embeddings for each example\n",
    "#news_train100.calc_sbert_embeddings()\n",
    "\n",
    "# this is required due the particular implementation details of our Dataset class\n",
    "news_train100 = expand_labels(news_train100)"
   ]
  },
  {
   "cell_type": "code",
   "execution_count": null,
   "metadata": {
    "id": "KJ2-1euApFfv"
   },
   "outputs": [],
   "source": [
    "# convert the properly formatted training Dataset into a PyTorch DataLoader\n",
    "data_loader = prepare_dataloader(news_train100, Zmap_w2v)"
   ]
  },
  {
   "cell_type": "markdown",
   "metadata": {
    "id": "osTONj1cZNFJ"
   },
   "source": [
    "### Define training and model parameters"
   ]
  },
  {
   "cell_type": "code",
   "execution_count": null,
   "metadata": {
    "id": "z7_8WDSFXXdn"
   },
   "outputs": [],
   "source": [
    "# dimensions for Wmap should match the last dimension of Zmap since Wmap will modify SBERT*Zmap\n",
    "model_size = (Zmap_w2v.size()[1], Zmap_w2v.size()[1])     \n",
    "lr = 0.1          # learning rate\n",
    "lam = 500         # lambda regularization value\n",
    "epochs = 100      # training epochs\n",
    "device = \"cuda\" if torch.cuda.is_available() else \"cpu\""
   ]
  },
  {
   "cell_type": "code",
   "execution_count": null,
   "metadata": {
    "id": "vo1vMCNVWssm"
   },
   "outputs": [],
   "source": [
    "# instantiate a model and loss function\n",
    "fewshot_model = FewShotLinearRegression(*model_size, \n",
    "                                        loss_fcn=BayesianMSELoss(device=device), \n",
    "                                        lr=lr, \n",
    "                                        device=device)\n",
    "# train\n",
    "loss_history = train(fewshot_model, data_loader, num_epochs=epochs, lam=lam)"
   ]
  },
  {
   "cell_type": "code",
   "execution_count": null,
   "metadata": {
    "colab": {
     "base_uri": "https://localhost:8080/",
     "height": 262
    },
    "executionInfo": {
     "elapsed": 1231,
     "status": "ok",
     "timestamp": 1612911884024,
     "user": {
      "displayName": "Melanie Beck",
      "photoUrl": "https://lh3.googleusercontent.com/a-/AOh14GjLbnYa4ftLBgztDifL0LIFKY8SwjZMZ7xgytOx=s64",
      "userId": "09930974187097582546"
     },
     "user_tz": 360
    },
    "id": "5ICwbfhwUsL-",
    "outputId": "f9d2eb68-a632-4073-ef6e-32ccab6fc8ca"
   },
   "outputs": [
    {
     "data": {
      "image/png": "[encoded data removed]",
      "text/plain": [
       "<Figure size 432x288 with 1 Axes>"
      ]
     },
     "metadata": {
      "tags": []
     },
     "output_type": "display_data"
    }
   ],
   "source": [
    "# visualize the loss as a function of epochs\n",
    "plt.plot(loss_history);"
   ]
  },
  {
   "cell_type": "markdown",
   "metadata": {
    "id": "I3jQvixcf3tN"
   },
   "source": [
    "Once we have finished the training process, extracting Wmap is as simple as pulling the weights from the linear model as shown below. Wmap is thus a matrix that can be used to transform the SBERT*Zmap representations while taking into account labeled training data. "
   ]
  },
  {
   "cell_type": "code",
   "execution_count": null,
   "metadata": {
    "colab": {
     "base_uri": "https://localhost:8080/"
    },
    "executionInfo": {
     "elapsed": 1044,
     "status": "ok",
     "timestamp": 1612911889970,
     "user": {
      "displayName": "Melanie Beck",
      "photoUrl": "https://lh3.googleusercontent.com/a-/AOh14GjLbnYa4ftLBgztDifL0LIFKY8SwjZMZ7xgytOx=s64",
      "userId": "09930974187097582546"
     },
     "user_tz": 360
    },
    "id": "uYBrogepUsYM",
    "outputId": "125306ca-b71b-4828-a254-9032f96687bd"
   },
   "outputs": [
    {
     "name": "stdout",
     "output_type": "stream",
     "text": [
      "76.97368421052632 79.25\n"
     ]
    }
   ],
   "source": [
    "# grab Wmap (weight matrix of the model)\n",
    "Wmap_100 = fewshot_model.linear.weight.detach().cpu()\n",
    "\n",
    "# predict on test set\n",
    "test_score = predict_and_score(news_test, linear_maps=[Zmap_w2v, Wmap_100])\n",
    "\n",
    "# predict on train set\n",
    "train_score = predict_and_score(news_train100, linear_maps=[Zmap_w2v, Wmap_100])\n",
    "\n",
    "print(test_score, train_score)"
   ]
  },
  {
   "cell_type": "markdown",
   "metadata": {
    "id": "brMlVNKFBIkl"
   },
   "source": [
    "### Training set of 2000 examples (500 per category)"
   ]
  },
  {
   "cell_type": "code",
   "execution_count": null,
   "metadata": {
    "colab": {
     "base_uri": "https://localhost:8080/"
    },
    "executionInfo": {
     "elapsed": 35813,
     "status": "ok",
     "timestamp": 1612911959719,
     "user": {
      "displayName": "Melanie Beck",
      "photoUrl": "https://lh3.googleusercontent.com/a-/AOh14GjLbnYa4ftLBgztDifL0LIFKY8SwjZMZ7xgytOx=s64",
      "userId": "09930974187097582546"
     },
     "user_tz": 360
    },
    "id": "u12Gpiy9A4d7",
    "outputId": "41343753-bb75-4bf2-9739-218057b7f156"
   },
   "outputs": [
    {
     "name": "stderr",
     "output_type": "stream",
     "text": [
      "/content/fewshot/data/utils.py:81: UserWarning: Should run dataset.calc_sbert_embeddings() first.  In the future this will fail.\n",
      "  \"Should run dataset.calc_sbert_embeddings() first.  In the future this will fail.\"\n",
      "Computing sentence representations: 100%|██████████| 126/126 [00:26<00:00,  4.76it/s]\n"
     ]
    }
   ],
   "source": [
    "df_news_train500 = select_subsample(df_news_train, sample_size=500)\n",
    "\n",
    "news_train500 = _create_dataset_from_df(df_news_train500, 'text')\n",
    "#news_train500.calc_sbert_embeddings()\n",
    "\n",
    "news_train500 = expand_labels(news_train500)\n",
    "\n",
    "data_loader = prepare_dataloader(news_train500, Zmap_w2v)"
   ]
  },
  {
   "cell_type": "code",
   "execution_count": null,
   "metadata": {
    "id": "SiFz1Tk4dnuW"
   },
   "outputs": [],
   "source": [
    "# instantiate a model and loss function\n",
    "fewshot_model = FewShotLinearRegression(*model_size, \n",
    "                                        loss_fcn=BayesianMSELoss(device=device), \n",
    "                                        lr=lr, \n",
    "                                        device=device)\n",
    "# train\n",
    "loss_history = train(fewshot_model, data_loader, num_epochs=epochs, lam=lam)"
   ]
  },
  {
   "cell_type": "markdown",
   "metadata": {
    "id": "ltwdqG7qgYnL"
   },
   "source": [
    "We've now trained two Wmaps -- one trained with only 400 examples and this one trained on 2000 examples. "
   ]
  },
  {
   "cell_type": "code",
   "execution_count": null,
   "metadata": {
    "colab": {
     "base_uri": "https://localhost:8080/"
    },
    "executionInfo": {
     "elapsed": 1357,
     "status": "ok",
     "timestamp": 1612911970724,
     "user": {
      "displayName": "Melanie Beck",
      "photoUrl": "https://lh3.googleusercontent.com/a-/AOh14GjLbnYa4ftLBgztDifL0LIFKY8SwjZMZ7xgytOx=s64",
      "userId": "09930974187097582546"
     },
     "user_tz": 360
    },
    "id": "J2wJ8N2kgK-K",
    "outputId": "49f1a1dd-d470-499d-9418-cd1b03285535"
   },
   "outputs": [
    {
     "name": "stdout",
     "output_type": "stream",
     "text": [
      "77.67105263157895 77.8\n"
     ]
    }
   ],
   "source": [
    "# grab the new Wmap\n",
    "Wmap_500 = fewshot_model.linear.weight.detach().cpu()\n",
    "\n",
    "# predict on test set\n",
    "test_score = predict_and_score(news_test, linear_maps=[Zmap_w2v, Wmap_500])\n",
    "\n",
    "# predict on train set\n",
    "train_score = predict_and_score(news_train500, linear_maps=[Zmap_w2v, Wmap_500])\n",
    "\n",
    "print(test_score, train_score)"
   ]
  },
  {
   "cell_type": "markdown",
   "metadata": {
    "id": "v_ex-nNnC56j"
   },
   "source": [
    "Training on 5 times more data only increased our classification accuracy by about a point, indicating that we're likely hitting the limits of model performance for this technique. \n",
    "\n",
    "Below we save the Wmap we trained for use in the demo that accompanies this repo."
   ]
  },
  {
   "cell_type": "code",
   "execution_count": null,
   "metadata": {
    "colab": {
     "base_uri": "https://localhost:8080/"
    },
    "executionInfo": {
     "elapsed": 625,
     "status": "ok",
     "timestamp": 1612896101654,
     "user": {
      "displayName": "Melanie Beck",
      "photoUrl": "https://lh3.googleusercontent.com/a-/AOh14GjLbnYa4ftLBgztDifL0LIFKY8SwjZMZ7xgytOx=s64",
      "userId": "09930974187097582546"
     },
     "user_tz": 360
    },
    "id": "9qcKH4DGgQdf",
    "outputId": "45f0db45-c491-4cc4-e4e5-1fef456d2b89"
   },
   "outputs": [
    {
     "name": "stderr",
     "output_type": "stream",
     "text": [
      "/content/fewshot/utils.py:64: UserWarning: To copy construct from a tensor, it is recommended to use sourceTensor.clone().detach() or sourceTensor.clone().detach().requires_grad_(True), rather than torch.tensor(sourceTensor).\n",
      "  torch.save(torch.tensor(vector, dtype=torch.float), filename)\n"
     ]
    }
   ],
   "source": [
    "# Save this Wmap for the demo\n",
    "torch_save(Wmap_500, \"Wmap_agnews_lr0.1_lam500_500expercat.pt\")"
   ]
  },
  {
   "cell_type": "markdown",
   "metadata": {
    "id": "K8r_FcYoi_Zo"
   },
   "source": [
    "### Learning Curve\n",
    "We saw that significantly increasing the number of training examples didn't result in substantial performance gains. \n",
    "\n",
    "In this section we look at train and test accuracy as a function of how many training examples we use. Known as a **learning curve**, this diagnostic can help you determine an optimal sample size for the complexity of your model and whether you might be overfitting.  \n",
    "\n",
    "In addition to choosing various `sample_sizes`, we also consider diferent `random_states` in order to account for random sample selection. That is, what affect would you see if you had had a different training sample? You may collect 500 labeled examples but what if you had collected 500 *different* ones? Understanding this source of variance allows us to probe the robustness of a model by computing error bars. \n",
    "\n",
    "Specifically, we train on five different randomly selected subsamples of 5 training examples each (per category -- 20 total training examples), then we repeat this procedure for each of the `sample_sizes`. \n",
    "\n",
    "We'll use the results of this experiment in a figure we construct at the end of the notebook. \n",
    "\n",
    "**NOTE: running this cell will take 30-60 minutes even with a GPU.**"
   ]
  },
  {
   "cell_type": "code",
   "execution_count": 128,
   "metadata": {
    "executionInfo": {
     "elapsed": 1143,
     "status": "ok",
     "timestamp": 1612917652281,
     "user": {
      "displayName": "Melanie Beck",
      "photoUrl": "https://lh3.googleusercontent.com/a-/AOh14GjLbnYa4ftLBgztDifL0LIFKY8SwjZMZ7xgytOx=s64",
      "userId": "09930974187097582546"
     },
     "user_tz": 360
    },
    "id": "JKxq-qPnGneU"
   },
   "outputs": [],
   "source": [
    "def calc_learning_curve(train_df, test_data, text_column, lr, lam, epochs, device):\n",
    "    random_states = [42, 36, 90, 87, 12]\n",
    "    results = {}\n",
    "    for random_state in random_states:\n",
    "        test_scores = []\n",
    "        train_scores = []\n",
    "        sample_sizes = [5, 10, 25, 50, 75, 100, 250, 500]\n",
    "        for sample_size in sample_sizes:\n",
    "            sample_df = select_subsample(train_df, sample_size=sample_size, \n",
    "                                          random_state=random_state)\n",
    "            train_subset = _create_dataset_from_df(sample_df, text_column)\n",
    "            train_subset = expand_labels(train_subset)\n",
    "            data_loader = prepare_dataloader(train_subset, Zmap_w2v)\n",
    "            fewshot_model = FewShotLinearRegression(Zmap_w2v.size()[1], Zmap_w2v.size()[1],\n",
    "                                                    loss_fcn=BayesianMSELoss(device=device), \n",
    "                                                    lr=lr, \n",
    "                                                    device=device)\n",
    "            loss_history = train(fewshot_model, data_loader, num_epochs=epochs, lam=lam)\n",
    "            Wmap = fewshot_model.linear.weight.detach().cpu()\n",
    "            # predict on test set\n",
    "            test_score = predict_and_score(test_data, linear_maps=[Zmap_w2v, Wmap])\n",
    "            test_scores.append(test_score)\n",
    "            # predict on train set\n",
    "            train_score = predict_and_score(train_subset, linear_maps=[Zmap_w2v, Wmap])\n",
    "            train_scores.append(train_score)\n",
    "\n",
    "            results[str(random_state)] = [test_scores, train_scores]\n",
    "\n",
    "    pickle_save(results, \"learning_curve_results.pkl\")\n",
    "    return results"
   ]
  },
  {
   "cell_type": "code",
   "execution_count": null,
   "metadata": {
    "id": "WblZZ7gVJg_q"
   },
   "outputs": [],
   "source": [
    "news_results = calc_learning_curve(df_news_train, news_test, text_column='text', \n",
    "                                   lr=0.1, lam=500, epochs=100, device='cuda')"
   ]
  },
  {
   "cell_type": "markdown",
   "metadata": {
    "id": "hE_Z5vLULtEr"
   },
   "source": [
    "# Training Wmap on the Reddit dataset\n",
    "We perform the same basic experiments for the Reddit dataset. "
   ]
  },
  {
   "cell_type": "code",
   "execution_count": null,
   "metadata": {
    "colab": {
     "base_uri": "https://localhost:8080/"
    },
    "executionInfo": {
     "elapsed": 22496,
     "status": "ok",
     "timestamp": 1612897068802,
     "user": {
      "displayName": "Melanie Beck",
      "photoUrl": "https://lh3.googleusercontent.com/a-/AOh14GjLbnYa4ftLBgztDifL0LIFKY8SwjZMZ7xgytOx=s64",
      "userId": "09930974187097582546"
     },
     "user_tz": 360
    },
    "id": "JnlIJI0CMfWY",
    "outputId": "d24a7c84-951b-46bf-aaef-a77545429530"
   },
   "outputs": [
    {
     "name": "stderr",
     "output_type": "stream",
     "text": [
      "Computing sentence representations: 100%|██████████| 64/64 [00:13<00:00,  4.78it/s]\n"
     ]
    }
   ],
   "source": [
    "# select a subset of the reddit training set -- 100 examples per category (1000 total)\n",
    "df_reddit_train100 = select_subsample(df_reddit_train, sample_size=100)\n",
    "# convert that to a properly formated Dataset object\n",
    "reddit_train100 = _create_dataset_from_df(df_reddit_train100, 'summary')\n",
    "reddit_train100 = expand_labels(reddit_train100)\n",
    "\n",
    "data_loader = prepare_dataloader(reddit_train100, Zmap_w2v)"
   ]
  },
  {
   "cell_type": "code",
   "execution_count": null,
   "metadata": {
    "id": "WT9jtSsGLV_K"
   },
   "outputs": [],
   "source": [
    "# instantiate a model and loss function\n",
    "fewshot_model = FewShotLinearRegression(*model_size, \n",
    "                                        loss_fcn=BayesianMSELoss(device=device), \n",
    "                                        lr=lr, \n",
    "                                        device=device)\n",
    "# train\n",
    "loss_history = train(fewshot_model, data_loader, num_epochs=epochs, lam=lam)"
   ]
  },
  {
   "cell_type": "code",
   "execution_count": null,
   "metadata": {
    "id": "nceiCClgMfWY"
   },
   "outputs": [],
   "source": [
    "# grab the Wmap now trained on reddit set\n",
    "Wmap_100 = fewshot_model.linear.weight.detach().cpu()\n",
    "# predict on test set\n",
    "test_score = predict_and_score(reddit_test, linear_maps=[Zmap_w2v, Wmap_100])\n",
    "# predict on train set\n",
    "train_score = predict_and_score(reddit_test, linear_maps=[Zmap_w2v, Wmap_100])\n",
    "\n",
    "print(test_score, train_score)"
   ]
  },
  {
   "cell_type": "markdown",
   "metadata": {
    "id": "dOAi6NzejHiY"
   },
   "source": [
    "### Learning curve\n",
    "\n",
    "Note that running this cell will take 30-60 minutes even with a GPU due to the number of experiments run. "
   ]
  },
  {
   "cell_type": "code",
   "execution_count": null,
   "metadata": {
    "id": "wyiVKn2eNXqC"
   },
   "outputs": [],
   "source": [
    "reddit_results = calc_learning_curve(df_reddit_train, reddit_test, text_column='summary', \n",
    "                                     lr=0.1, lam=500, epochs=100, device='cuda')"
   ]
  },
  {
   "cell_type": "markdown",
   "metadata": {
    "id": "JKwAEGxfjWVi"
   },
   "source": [
    "### Aggregating results\n",
    "\n",
    "Both of our learning curve experiments were performed over several random samplings of data. Here we combine the results and obtain the average and standard deviation of all the trials for both datasets"
   ]
  },
  {
   "cell_type": "code",
   "execution_count": 12,
   "metadata": {
    "executionInfo": {
     "elapsed": 414,
     "status": "ok",
     "timestamp": 1612974601630,
     "user": {
      "displayName": "Melanie Beck",
      "photoUrl": "https://lh3.googleusercontent.com/a-/AOh14GjLbnYa4ftLBgztDifL0LIFKY8SwjZMZ7xgytOx=s64",
      "userId": "09930974187097582546"
     },
     "user_tz": 360
    },
    "id": "JlXrST2psNNR"
   },
   "outputs": [],
   "source": [
    "def aggregate_results(results):\n",
    "    agg_results = {}\n",
    "\n",
    "    test_scores = np.array([np.array(scores[0]) for _, scores in results.items()])\n",
    "    train_scores = np.array([np.array(scores[1]) for _, scores in results.items()])\n",
    "\n",
    "    agg_results['test_avg'] = np.mean(test_scores, axis=0)\n",
    "    agg_results['test_pos_err'] = agg_results['test_avg'] + np.std(test_scores, axis=0)\n",
    "    agg_results['test_neg_err'] = agg_results['test_avg'] - np.std(test_scores, axis=0)\n",
    "\n",
    "    agg_results['train_avg'] = np.mean(train_scores, axis=0)\n",
    "    agg_results['train_pos_err'] = agg_results['train_avg'] + np.std(train_scores, axis=0)\n",
    "    agg_results['train_neg_err'] = agg_results['train_avg'] - np.std(train_scores, axis=0)\n",
    "    return agg_results\n",
    "\n",
    "results = pickle_load(\"agnews_learning_curve_results.pkl\")\n",
    "\n",
    "agg_results  = aggregate_results(results)"
   ]
  },
  {
   "cell_type": "markdown",
   "metadata": {
    "id": "HSxvvPpajsJ4"
   },
   "source": [
    "## Make a pretty figure"
   ]
  },
  {
   "cell_type": "code",
   "execution_count": 15,
   "metadata": {
    "colab": {
     "base_uri": "https://localhost:8080/",
     "height": 586
    },
    "executionInfo": {
     "elapsed": 2162,
     "status": "ok",
     "timestamp": 1612975418480,
     "user": {
      "displayName": "Melanie Beck",
      "photoUrl": "https://lh3.googleusercontent.com/a-/AOh14GjLbnYa4ftLBgztDifL0LIFKY8SwjZMZ7xgytOx=s64",
      "userId": "09930974187097582546"
     },
     "user_tz": 360
    },
    "id": "wtmrZ9tpNkL8",
    "outputId": "9d7ffec2-4fd7-4594-dffb-f8e2d24418ed"
   },
   "outputs": [
    {
     "data": {
      "image/png": "[encoded data removed]",
      "text/plain": [
       "<Figure size 1080x1080 with 2 Axes>"
      ]
     },
     "metadata": {
      "tags": []
     },
     "output_type": "display_data"
    }
   ],
   "source": [
    "plt.style.use(\"seaborn-white\")\n",
    "\n",
    "sample_sizes = [5, 10, 25, 50, 75, 100, 250, 500]\n",
    "\n",
    "news_results = pickle_load(\"agnews_learning_curve_results.pkl\")\n",
    "agg_results_news = aggregate_results(news_results)\n",
    "\n",
    "reddit_results = pickle_load(\"reddit_learning_curve_results.pkl\")\n",
    "agg_results_reddit = aggregate_results(reddit_results)\n",
    "\n",
    "def plot_learning_curve(ax, agg_results):\n",
    "    ax.plot(sample_sizes, agg_results['test_avg'], lw=2, label=\"test\")\n",
    "    ax.fill_between(sample_sizes, \n",
    "                    agg_results['test_neg_err'], \n",
    "                    agg_results['test_pos_err'], \n",
    "                    alpha=0.5)\n",
    "    ax.semilogx(sample_sizes, agg_results['train_avg'], lw=2, label=\"train\")\n",
    "    ax.fill_between(sample_sizes, \n",
    "                    agg_results['train_neg_err'], \n",
    "                    agg_results['train_pos_err'], \n",
    "                    alpha=0.5)\n",
    "    \n",
    "fig = plt.figure(figsize=(15,15))\n",
    "ax = fig.add_subplot(221)\n",
    "plot_learning_curve(ax, agg_results_news)\n",
    "ax.set_title(\"AG News (4 categories)\", fontsize=20)\n",
    "\n",
    "ax.set_ylabel(\"Classification accuracy\", fontsize=16)\n",
    "ax.set_xlabel(\"Number of labeled examples\", fontsize=16)\n",
    "ax.tick_params(axis='both', labelsize=14)\n",
    "ax.tick_params(which='minor', length=3)\n",
    "ax.legend(frameon=False, fontsize=16)\n",
    "\n",
    "ax2 = fig.add_subplot(222)\n",
    "plot_learning_curve(ax2, agg_results_reddit)\n",
    "ax2.set_title(\"Reddit (10 categories)\", fontsize=20)\n",
    "ax2.set_xlabel(\"Number of labeled examples\", fontsize=16)\n",
    "ax2.tick_params(axis='both', labelsize=14)\n",
    "ax2.tick_params(which='minor', length=3)\n",
    "ax2.legend(frameon=False, fontsize=16);\n",
    "plt.tight_layout()\n",
    "plt.savefig(\"learningcurves_agnews_reddit.png\", transparent=True, dpi=150)"
   ]
  },
  {
   "cell_type": "markdown",
   "metadata": {
    "id": "PNY_BcWMSZce"
   },
   "source": [
    "As we discuss in depth in the [report](https://few-shot-text-classification.fastforwardlabs.com/), the latent embedding technique is not only well suited to regimes in which only a limited amount of labeled data exists, it can *only handle* small amounts of data! Ultimately, our Wmap is a model with a relatively few number of parameters which mean that it can't capture the complexity of larger datasets resulting in performance that levels off after a few hundred training examples. "
   ]
  },
  {
   "cell_type": "markdown",
   "metadata": {
    "id": "mNvYSI0bTPjk"
   },
   "source": [
    "# Text classification in limited-labeled-data regimes\n",
    "\n",
    "Below we compare the performance of the three main ways that we use the latent embedding approach for text classification. \n",
    "\n",
    "To recap: \n",
    "1. First, we used SBERT representations of both the example text and each of the possible labels to perform text classification on-the-fly (no training data!)\n",
    "2. Second, we optimized Zmap which projected SBERT embeddings into word2vec space in order to better capture the semantics of individual *words*. This improved performance on the AG News dataset but not the Reddit dataset because subreddit names were often too semantically vague or all-emcompassing.\n",
    "3. Third, we used training data to learn an addition mapping, Wmap, between example text and their associated labels and this improved performance for both datasets. "
   ]
  },
  {
   "cell_type": "code",
   "execution_count": null,
   "metadata": {
    "colab": {
     "base_uri": "https://localhost:8080/",
     "height": 430
    },
    "executionInfo": {
     "elapsed": 1694,
     "status": "ok",
     "timestamp": 1612902909745,
     "user": {
      "displayName": "Melanie Beck",
      "photoUrl": "https://lh3.googleusercontent.com/a-/AOh14GjLbnYa4ftLBgztDifL0LIFKY8SwjZMZ7xgytOx=s64",
      "userId": "09930974187097582546"
     },
     "user_tz": 360
    },
    "id": "-dMNlz6ZBks4",
    "outputId": "38ff595a-7ed8-4292-f052-fd83afb0d4b9"
   },
   "outputs": [
    {
     "data": {
      "image/png": "[encoded data removed]",
      "text/plain": [
       "<Figure size 648x504 with 1 Axes>"
      ]
     },
     "metadata": {
      "tags": []
     },
     "output_type": "display_data"
    }
   ],
   "source": [
    "plt.style.use(\"seaborn-white\")\n",
    "cldr_colors = ['#00b6b5', '#f7955b','#6c8cc7']\n",
    "\n",
    "# from the Zmap_Experiments Colab notebook\n",
    "baseline_news_acc = 51.0921052631579\n",
    "baseline_reddit_acc = 38.36712428402582\n",
    "\n",
    "Zmap_news_acc = 65.57894736842104\n",
    "Zmap_reddit_acc = 30.26335727490378\n",
    "\n",
    "Wmap_news_acc = 77.42105263157895\n",
    "Wmap_reddit_acc = 44.40769230769231\n",
    "\n",
    "fig = plt.figure(figsize=(9,7))\n",
    "width = 0.20\n",
    "plt.bar(np.array([0, 1])-width, [baseline_news_acc, baseline_reddit_acc], \n",
    "        width=width, color=cldr_colors[0],  label='SBERT')\n",
    "plt.bar(np.array([0, 1]), [Zmap_news_acc, Zmap_reddit_acc], \n",
    "        width=width, color=cldr_colors[1], label=\"SBERT*Zmap\")\n",
    "plt.bar(np.array([0, 1])+width, [Wmap_news_acc, Wmap_reddit_acc], \n",
    "        width=width, color=cldr_colors[2], label=\"SBERT*Zmap*Wmap\")\n",
    "\n",
    "plt.xticks([0,1], ['AG News', 'Reddit'], fontsize=16)\n",
    "plt.yticks(fontsize=16)\n",
    "plt.ylabel(\"Accuracy\", fontsize=20);\n",
    "plt.legend(frameon=False, fontsize=16);\n",
    "\n",
    "plt.savefig(\"accuracy_Wmap_agnews_reddit.png\", transparent=True, dpi=150)"
   ]
  },
  {
   "cell_type": "markdown",
   "metadata": {
    "id": "KbvU8SvttCzr"
   },
   "source": [
    "***If this documentation includes code, including but not limited to, code examples, Cloudera makes this available to you under the terms of the Apache License, Version 2.0, including any required notices.  A copy of the Apache License Version 2.0 can be found [here](https://opensource.org/licenses/Apache-2.0).***"
   ]
  },
  {
   "cell_type": "code",
   "execution_count": null,
   "metadata": {
    "id": "o92Bh0xXtCzr"
   },
   "outputs": [],
   "source": []
  }
 ],
 "metadata": {
  "accelerator": "GPU",
  "colab": {
   "collapsed_sections": [],
   "machine_shape": "hm",
   "name": "Wmap_Experiments.ipynb",
   "provenance": [],
   "toc_visible": true
  },
  "kernelspec": {
   "display_name": "Python 3",
   "language": "python",
   "name": "python3"
  },
  "language_info": {
   "codemirror_mode": {
    "name": "ipython",
    "version": 3
   },
   "file_extension": ".py",
   "mimetype": "text/x-python",
   "name": "python",
   "nbconvert_exporter": "python",
   "pygments_lexer": "ipython3",
   "version": "3.7.9"
  }
 },
 "nbformat": 4,
 "nbformat_minor": 1
}
